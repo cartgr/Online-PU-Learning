{
 "cells": [
  {
   "cell_type": "markdown",
   "metadata": {},
   "source": [
    "# PU-Learning Experiment Environment"
   ]
  },
  {
   "cell_type": "markdown",
   "metadata": {},
   "source": [
    "## Libraries"
   ]
  },
  {
   "cell_type": "code",
   "execution_count": 2,
   "metadata": {},
   "outputs": [],
   "source": [
    "import torch\n",
    "from torch.utils import data\n",
    "import torch.nn as nn\n",
    "import numpy as np\n",
    "from scipy.stats import gaussian_kde\n",
    "import pandas as pd\n",
    "from scipy.stats import binom\n",
    "import matplotlib.pyplot as plt\n",
    "from sklearn.linear_model import LogisticRegression\n",
    "from ipywidgets import IntProgress\n",
    "from IPython.display import display"
   ]
  },
  {
   "cell_type": "markdown",
   "metadata": {},
   "source": [
    "## Data Stuff"
   ]
  },
  {
   "cell_type": "markdown",
   "metadata": {},
   "source": [
    "### Data Stuff for Homemade Classifier"
   ]
  },
  {
   "cell_type": "code",
   "execution_count": 3,
   "metadata": {},
   "outputs": [],
   "source": [
    "class Gaussain_data(torch.utils.data.Dataset):\n",
    "\n",
    "    def __init__(self, pos_mu, pos_sigma, pos_size, neg_mu, neg_sigma, neg_size):\n",
    "        \n",
    "        dim = 1\n",
    "        \n",
    "        input_pos = np.random.multivariate_normal(pos_mu*np.ones(dim), pos_sigma*np.eye(dim), pos_size)\n",
    "        \n",
    "        input_neg = np.random.multivariate_normal(neg_mu*np.ones(dim), neg_sigma*np.eye(dim), neg_size)\n",
    "        \n",
    "        self.p_data  = input_pos.astype(np.float32)\n",
    "        self.n_data  = input_neg.astype(np.float32)\n",
    "        \n",
    "    def __len__(self): \n",
    "        return len(self.n_data) + len(self.p_data)"
   ]
  },
  {
   "cell_type": "code",
   "execution_count": 4,
   "metadata": {},
   "outputs": [],
   "source": [
    "class PosData(torch.utils.data.Dataset): \n",
    "    \n",
    "    def __init__(self, data=None, index=None):\n",
    "        self.data=data\n",
    "        self.targets = np.zeros(data.shape[0], dtype= np.int_)\n",
    "        self.index = index\n",
    "\n",
    "    def __len__(self): \n",
    "        return len(self.targets)\n",
    "\n",
    "    def __getitem__(self, idx):\n",
    "        index, point, target = self.index[idx],  self.data[idx], self.targets[idx]\n",
    "    \n",
    "        return index, point, target"
   ]
  },
  {
   "cell_type": "code",
   "execution_count": 5,
   "metadata": {},
   "outputs": [],
   "source": [
    "class UnlabelData(torch.utils.data.Dataset):\n",
    "    \n",
    "    def __init__(self, pos_data=None, neg_data=None, index=None):\n",
    "        self.data=np.concatenate((pos_data, neg_data), axis=0)\n",
    "        self.true_targets = np.concatenate((np.zeros(pos_data.shape[0], dtype= np.int_)\\\n",
    "                                            , np.ones(neg_data.shape[0],  dtype= np.int_)), axis=0)\n",
    "        self.targets = np.ones_like(self.true_targets, dtype= np.int_)\n",
    "        self.index = index\n",
    "\n",
    "    def __len__(self): \n",
    "        return len(self.targets)\n",
    "    \n",
    "    def __getitem__(self, idx):\n",
    "        index, img, target = self.index[idx],  self.data[idx], self.targets[idx]\n",
    "        return index, img, target"
   ]
  },
  {
   "cell_type": "code",
   "execution_count": 6,
   "metadata": {},
   "outputs": [],
   "source": [
    "def get_dataset(alpha, beta, batch_size=200, \\\n",
    "                pos_mu=8, pos_sigma=1, pos_size=2000, neg_mu=3, neg_sigma=1, neg_size=2000): \n",
    "\n",
    "    p_trainloader=None\n",
    "    u_trainloader=None\n",
    "    p_validloader=None\n",
    "    u_validloader=None\n",
    "    \n",
    "    unlabel_size = int((1-beta)*pos_size/beta)\n",
    "\n",
    "    num_points = 2*(pos_size+unlabel_size) # Number of pos/neg points to generate\n",
    "    \n",
    "    gauss_traindata = Gaussain_data(pos_mu=pos_mu, pos_sigma=pos_sigma, pos_size=num_points,\\\n",
    "                                   neg_mu=neg_mu, neg_sigma=neg_sigma, neg_size=num_points)\n",
    "    gauss_testdata = Gaussain_data(pos_mu=pos_mu, pos_sigma=pos_sigma, pos_size=num_points,\\\n",
    "                                   neg_mu=neg_mu, neg_sigma=neg_sigma, neg_size=num_points)\n",
    "\n",
    "    p_traindata, u_traindata = get_PUDataSplits(gauss_traindata, pos_size=pos_size, alpha=alpha, beta=beta)\n",
    "    p_validdata , u_validdata = get_PUDataSplits(gauss_testdata, pos_size=pos_size, alpha=alpha, beta=beta)\n",
    "\n",
    "    pu_traindata = torch.utils.data.ConcatDataset([p_traindata, u_traindata])\n",
    "    pu_validdata = torch.utils.data.ConcatDataset([p_validdata, u_validdata])\n",
    "\n",
    "    p_trainloader = torch.utils.data.DataLoader(p_traindata, batch_size=batch_size, \\\n",
    "        shuffle=True, num_workers=2)\n",
    "    u_trainloader = torch.utils.data.DataLoader(u_traindata, batch_size=batch_size, \\\n",
    "        shuffle=True, num_workers=2)\n",
    "    p_validloader = torch.utils.data.DataLoader(p_validdata, batch_size=batch_size, \\\n",
    "        shuffle=True, num_workers=2)\n",
    "    u_validloader = torch.utils.data.DataLoader(u_validdata, batch_size=batch_size, \\\n",
    "        shuffle=True, num_workers=2)\n",
    "    \n",
    "    pu_trainloader = torch.utils.data.DataLoader(pu_traindata, batch_size=batch_size, \\\n",
    "        shuffle=True, num_workers=2)\n",
    "    pu_validloader = torch.utils.data.DataLoader(pu_validdata, batch_size=batch_size, \\\n",
    "        shuffle=True, num_workers=2)\n",
    "\n",
    "    return p_trainloader, u_trainloader, pu_trainloader, p_validloader, u_validloader, pu_validloader"
   ]
  },
  {
   "cell_type": "code",
   "execution_count": 7,
   "metadata": {},
   "outputs": [],
   "source": [
    "def get_PUDataSplits(data_obj, pos_size, alpha, beta, data_type=None): \n",
    "\n",
    "    unlabel_size = int((1-beta)*pos_size/beta)\n",
    "    \n",
    "    '''\n",
    "    Assert makes sure the generated pool is big enough to draw from\n",
    "    '''\n",
    "    assert ((pos_size + int(unlabel_size*alpha)) < len(data_obj.p_data)), \"Check sizes again--not enough positive data\"\n",
    "    assert ((int(unlabel_size*(1-alpha))) < len(data_obj.n_data)), \"Check sizes again--not enough negative data\"\n",
    "\n",
    "    pos_data = data_obj.p_data[:pos_size]\n",
    "    neg_data = data_obj.n_data\n",
    "    unlabel_pos_data = data_obj.p_data[pos_size: pos_size+ int(unlabel_size*alpha)]\n",
    "    unlabel_neg_data = data_obj.n_data[:int(unlabel_size*(1-alpha))]\n",
    "\n",
    "    \n",
    "    return PosData(data=pos_data, index=np.array(range(pos_size))), \\\n",
    "            UnlabelData(pos_data=unlabel_pos_data, neg_data=unlabel_neg_data, \\\n",
    "                index=np.array(range(unlabel_size)))\n"
   ]
  },
  {
   "cell_type": "markdown",
   "metadata": {},
   "source": [
    "### Data Stuff for SK Classifier"
   ]
  },
  {
   "cell_type": "code",
   "execution_count": 8,
   "metadata": {},
   "outputs": [],
   "source": [
    "def get_sk_data(alpha= 0.5, pos_mu=8, pos_sigma=1, pos_size=2000,\\\n",
    "                neg_mu=3, neg_sigma=1, unl_size=2000):\n",
    "    \n",
    "    rng = np.random.default_rng()\n",
    "    \n",
    "    pos_data = rng.normal(loc=pos_mu, size=pos_size)\n",
    "    pos_unl_data = rng.normal(loc=pos_mu, size=int(alpha*unl_size))\n",
    "    neg_unl_data = rng.normal(loc=neg_mu, size=int((1-alpha)*unl_size))\n",
    "    unl_data = np.concatenate((pos_unl_data,neg_unl_data))\n",
    "    \n",
    "    pos_labels = np.zeros_like(pos_data)\n",
    "    unl_labels = np.ones_like(unl_data)\n",
    "    \n",
    "    X=np.concatenate((pos_data,unl_data)).reshape((-1, 1))\n",
    "    y=np.concatenate((pos_labels,unl_labels))\n",
    "    \n",
    "    p = np.random.permutation(len(X))\n",
    "    X,y = X[p], y[p]\n",
    "    \n",
    "    p2 = np.random.permutation(len(unl_data))\n",
    "    unl_data = unl_data[p2]\n",
    "    \n",
    "    return X,y, pos_data, unl_data"
   ]
  },
  {
   "cell_type": "markdown",
   "metadata": {},
   "source": [
    "## NTC Classifier and Probability Stuff"
   ]
  },
  {
   "cell_type": "markdown",
   "metadata": {},
   "source": [
    "### Homemade Classifier"
   ]
  },
  {
   "cell_type": "code",
   "execution_count": 9,
   "metadata": {},
   "outputs": [],
   "source": [
    "class LogisticRegressionModel(nn.Module):\n",
    "    def __init__(self, input_dim, output_dim):\n",
    "        super(LogisticRegressionModel, self).__init__()\n",
    "        self.linear = nn.Linear(input_dim, output_dim)\n",
    "\n",
    "    def forward(self, x):\n",
    "        out = self.linear(x)\n",
    "        return out"
   ]
  },
  {
   "cell_type": "code",
   "execution_count": 10,
   "metadata": {},
   "outputs": [],
   "source": [
    "def train_model(model, train_dl, test_dl = None, eval=True, n_iters = 10000):\n",
    "    \n",
    "    iter = 0\n",
    "    \n",
    "    num_epochs = int(n_iters/(len(train_dl.dataset)/train_dl.batch_size)) # number of epochs = n_iters / (len(train_dataset) / batch_size)\n",
    "    \n",
    "    if eval==True:\n",
    "        print(f'    total training data size: {len(train_dl.dataset)}')\n",
    "        print(f'    batch size: {train_dl.batch_size}')\n",
    "        print(f'    n_iters: {n_iters}')\n",
    "        print(f'    num_epochs: {num_epochs}')\n",
    "        print()\n",
    "        print(\"Training Info:\")\n",
    "    \n",
    "    learning_rate = 0.001\n",
    "    \n",
    "    criterion = nn.CrossEntropyLoss()\n",
    "    optimizer = torch.optim.SGD(model.parameters(), lr=learning_rate)\n",
    "    \n",
    "    for epoch in range(num_epochs):\n",
    "\n",
    "        for i, (_, data, labels) in enumerate(train_dl):\n",
    "\n",
    "            data = data.view(-1, 1).requires_grad_()\n",
    "            labels = labels\n",
    "\n",
    "            optimizer.zero_grad()\n",
    "\n",
    "            outputs = model(data) \n",
    "\n",
    "            loss = criterion(outputs,labels)\n",
    "\n",
    "            loss.backward()\n",
    "\n",
    "            optimizer.step()\n",
    "            \n",
    "            iter += 1\n",
    "            \n",
    "            if (iter%(n_iters//10) == 0) and not(test_dl is None) and (eval == True):\n",
    "                \n",
    "                correct = 0\n",
    "                total = 0\n",
    "                for i, (_, data, labels) in enumerate(test_dl):\n",
    "                    data = data.view(-1,1).requires_grad_()\n",
    "                    outputs = model(data)\n",
    "                    _, predicted = torch.max(outputs.data, 1)\n",
    "                    total += labels.size(0)\n",
    "                    correct += (predicted == labels).sum()\n",
    "                accuracy = 100*correct/total\n",
    "                \n",
    "                print(f\"    Iteration: {iter}, Loss: {loss.item()}, Accuracy: {accuracy}%\")            "
   ]
  },
  {
   "cell_type": "code",
   "execution_count": 11,
   "metadata": {},
   "outputs": [],
   "source": [
    "def get_probs(model, p_data, u_data):\n",
    "    \n",
    "    p_probs = None\n",
    "    u_probs = None\n",
    "    u_labels = None\n",
    "    \n",
    "    softMax = nn.Softmax(dim=1)\n",
    "    \n",
    "    for i, (_, data, labels) in enumerate(p_data):\n",
    "        \n",
    "        outputs = model(data)\n",
    "        \n",
    "        probs = softMax(outputs)\n",
    "        \n",
    "        if p_probs is None:\n",
    "                p_probs = probs.detach().numpy()\n",
    "        else:\n",
    "            p_probs = np.concatenate((p_probs, probs.detach().numpy()), axis=0)\n",
    "            \n",
    "    p_probs = np.delete(p_probs, 1, 1) # Remove the unlabeled probability\n",
    "    p_probs = p_probs.squeeze() # squeeze into array of floats (probabilities)\n",
    "            \n",
    "    for i, (_, data, labels) in enumerate(u_data):\n",
    "        \n",
    "        outputs = model(data)\n",
    "        \n",
    "        probs = softMax(outputs)\n",
    "        \n",
    "        if u_probs is None:\n",
    "                u_probs = probs.detach().numpy()\n",
    "        else:\n",
    "            u_probs = np.concatenate((u_probs, probs.detach().numpy()), axis=0)\n",
    "        \n",
    "        if u_labels is None:\n",
    "            u_labels = labels.numpy()\n",
    "        else:\n",
    "            u_labels = np.concatenate((u_labels, labels.numpy()), axis = 0)\n",
    "            \n",
    "    \n",
    "    u_probs = np.delete(u_probs, 1, 1) # Remove the unlabeled probability\n",
    "    u_probs = u_probs.squeeze() # squeeze into array of floats (probabilities)\n",
    "    \n",
    "    u_labels = u_labels.squeeze() # squeeze into array of ints (class labels where 1 = unlabeled)\n",
    "    \n",
    "    #print(f\"p_probs: {p_probs}\")\n",
    "    #print(f\"u_probs: {u_probs}\")\n",
    "    #print(f\"u_labels: {u_labels}\")\n",
    "    \n",
    "    return p_probs, u_probs, u_labels"
   ]
  },
  {
   "cell_type": "markdown",
   "metadata": {},
   "source": [
    "### SK Classifier"
   ]
  },
  {
   "cell_type": "code",
   "execution_count": 12,
   "metadata": {},
   "outputs": [],
   "source": [
    "def sk_get_probs(clf, pos_data,unl_data):\n",
    "    pos_probs = []\n",
    "    unl_probs = []\n",
    "    \n",
    "    for point in pos_data:\n",
    "        prob = clf.predict_proba([[point]])[0][0]\n",
    "        pos_probs.append(prob)\n",
    "        \n",
    "    for point in unl_data:\n",
    "        prob = clf.predict_proba([[point]])[0][0]\n",
    "        unl_probs.append(prob)\n",
    "        \n",
    "    return np.array(pos_probs), np.array(unl_probs), np.ones_like(unl_probs)"
   ]
  },
  {
   "cell_type": "code",
   "execution_count": 13,
   "metadata": {},
   "outputs": [],
   "source": [
    "def sk_train(X,y):\n",
    "    clf = LogisticRegression(random_state=0).fit(X, y)\n",
    "    \n",
    "    return clf"
   ]
  },
  {
   "cell_type": "markdown",
   "metadata": {},
   "source": [
    "## MPE Algorithms"
   ]
  },
  {
   "cell_type": "markdown",
   "metadata": {},
   "source": [
    "### Best Bin Estimation (BBE)\n",
    "From: [*Mixture Proportion Estimation and PU Learning: A Modern Approach*](https://proceedings.neurips.cc/paper/2021/file/47b4f1bfdf6d298682e610ad74b37dca-Paper.pdf)"
   ]
  },
  {
   "cell_type": "code",
   "execution_count": 14,
   "metadata": {},
   "outputs": [],
   "source": [
    "def BBE_estimator(pdata_probs, udata_probs, udata_targets):\n",
    "\n",
    "    p_indices = np.argsort(pdata_probs) # indicies, smallest vlaue to largest value\n",
    "    sorted_p_probs = pdata_probs[p_indices] # array of p_probs, smallest to biggest\n",
    "    sorted_p_probs = sorted_p_probs[::-1] # array of p_probs, biggest to smallest\n",
    "    \n",
    "    \n",
    "    u_indices = np.argsort(udata_probs) # indicies, smallest vlaue to largest value\n",
    "    sorted_u_probs = udata_probs[u_indices] # array of u_probs, smallest to biggest\n",
    "    sorted_u_probs = sorted_u_probs[::-1] # array of u_probs, biggest to smallest\n",
    "    \n",
    "    \n",
    "    sorted_u_targets = udata_targets[u_indices] \n",
    "    sorted_u_targets = sorted_u_targets[::-1]\n",
    "    \n",
    "    \n",
    "    num = len(sorted_u_probs)\n",
    "    \n",
    "    estimate_arr = []\n",
    "\n",
    "    upper_cfb = []\n",
    "    lower_cfb = []            \n",
    "\n",
    "    i = 0\n",
    "    j = 0\n",
    "    num_u_samples = 0\n",
    "\n",
    "    while (i < num):\n",
    "        start_interval =  sorted_u_probs[i]   \n",
    "        k = i \n",
    "        if (i<num-1 and start_interval> sorted_u_probs[i+1]): \n",
    "            pass\n",
    "        else: \n",
    "            i += 1\n",
    "            continue\n",
    "        if (sorted_u_targets[i]==1):\n",
    "            num_u_samples += 1\n",
    "\n",
    "        while ( j<len(sorted_p_probs) and sorted_p_probs[j] >= start_interval):\n",
    "        #while (np.logical_and( j<len(sorted_p_probs), sorted_p_probs[j] >= start_interval)):\n",
    "            j+= 1\n",
    "\n",
    "        if j>1 and i > 1:\n",
    "            t = (i)*1.0*len(sorted_p_probs)/j/len(sorted_u_probs)\n",
    "            estimate, lower , upper = DKW_bound(i, j, t, len(sorted_u_probs), len(sorted_p_probs))\n",
    "            estimate_arr.append(estimate)\n",
    "            upper_cfb.append( upper)\n",
    "            lower_cfb.append( lower)\n",
    "        i+=1\n",
    "\n",
    "    if (len(upper_cfb) != 0): \n",
    "        idx = np.argmin(upper_cfb)\n",
    "        mpe_estimate = estimate_arr[idx]\n",
    "\n",
    "        return mpe_estimate, lower_cfb, upper_cfb\n",
    "    else: \n",
    "        return 0.0, 0.0, 0.0\n",
    "    \n",
    "def DKW_bound(x,y,t,m,n,delta=0.1, gamma= 0.01):\n",
    "\n",
    "    temp = np.sqrt(np.log(1/delta)/2/n) + np.sqrt(np.log(1/delta)/2/m)\n",
    "    bound = temp*(1+gamma)/(y/n)\n",
    "\n",
    "    estimate = t\n",
    "\n",
    "    return estimate, t - bound, t + bound\n"
   ]
  },
  {
   "cell_type": "markdown",
   "metadata": {},
   "source": [
    "### DEDPUL\n",
    "From: [*DEDPUL: Difference-of-Estimated-Densities-based\n",
    "Positive-Unlabeled Learning*](https://ieeexplore-ieee-org.ezproxy.library.uvic.ca/stamp/stamp.jsp?tp=&arnumber=9356188)"
   ]
  },
  {
   "cell_type": "code",
   "execution_count": 15,
   "metadata": {},
   "outputs": [],
   "source": [
    "def dedpul(pdata_probs, udata_probs,udata_targets):\n",
    "\n",
    "    udata_probs = 1-udata_probs\n",
    "    alpha = None\n",
    "    poster = np.zeros_like(udata_probs)\n",
    "    preds = np.concatenate(((1.0 - pdata_probs), udata_probs),axis=0)\n",
    "    targets = np.concatenate((np.zeros_like(pdata_probs), np.ones_like(udata_probs)), axis=0 )\n",
    "    \n",
    "    diff = estimate_diff(preds, targets) \n",
    "    alpha, poster = estimate_poster_em(diff=diff, mode='dedpul', alpha=None)\n",
    "\n",
    "    if alpha<=1e-4: \n",
    "        alpha, poster =  estimate_poster_dedpul(diff=diff, alpha=alpha)\n",
    "    \n",
    "\n",
    "\n",
    "    return 1 - alpha, poster\n"
   ]
  },
  {
   "cell_type": "code",
   "execution_count": 16,
   "metadata": {},
   "outputs": [],
   "source": [
    "def estimate_diff(preds, target, bw_mix=0.05, bw_pos=0.1, kde_mode='logit', threshold='mid', k_neighbours=None,\n",
    "                  tune=False, MT=False, MT_coef=0.25, decay_MT_coef=False, kde_type='kde', bins_mix=20, bins_pos=20):\n",
    "    \"\"\"\n",
    "    Estimates densities of predictions y(x) for P and U and ratio between them f_p / f_u for U sample;\n",
    "        uses kernel density estimation (kde);\n",
    "        post-processes difference of estimated densities - imposes monotonicity on lower preds\n",
    "        (so that diff is partly non-decreasing) and applies rolling median to further reduce variance\n",
    "    :param preds: predictions of NTC y(x), probability of belonging to U rather than P, np.array with shape (n,)\n",
    "    :param target: binary vector, 0 if positive, 1 if unlabeled, np.array with shape (n,)\n",
    "    :param bw_mix: bandwidth for kde of U\n",
    "    :param bw_pos: bandwidth for kde of P\n",
    "    :param kde_mode: 'prob', 'log_prob' or 'logit'; default is 'logit'\n",
    "    :param monotonicity: monotonicity is imposed on density difference for predictions below this number, float in [0, 1]\n",
    "    :param k_neighbours: difference is relaxed with median rolling window with size k_neighbours * 2 + 1,\n",
    "        default = int(preds[target == 1].shape[0] // 10)\n",
    "    :return: difference of densities f_p / f_u for U sample\n",
    "    \"\"\"\n",
    "\n",
    "    if kde_mode is None:\n",
    "        kde_mode = 'logit'\n",
    "\n",
    "    if (threshold is None) or (threshold == 'mid'):\n",
    "        threshold = preds[target == 1].mean() / 2 + preds[target == 0].mean() / 2\n",
    "\n",
    "    if k_neighbours is None:\n",
    "        k_neighbours = int(preds[target == 1].shape[0] // 20)\n",
    "\n",
    "    kde_inner_fun = lambda x: np.log((x + 1e-7) / (1 - x + 10 ** -5))\n",
    "    kde_outer_fun = lambda dens, x: dens(np.log((x + 1e-7) / (1 - x + 10 ** -5))) / (x * (1 - x) + 10 ** -5)\n",
    "\n",
    "    kde_mix = gaussian_kde(np.apply_along_axis(kde_inner_fun, 0, preds[target == 1]), bw_mix)\n",
    "    kde_pos = gaussian_kde(np.apply_along_axis(kde_inner_fun, 0, preds[target == 0]), bw_pos)\n",
    "\n",
    "        \n",
    "    #PLOT KDE's    \n",
    "    #ax = pd.Series(np.apply_along_axis(kde_inner_fun, 0, preds[target == 1])).plot.kde(bw_method = bw_mix)\n",
    "    #ax = pd.Series(np.apply_along_axis(kde_inner_fun, 0, preds[target == 0])).plot.kde(bw_method = bw_pos)\n",
    "\n",
    "\n",
    "\n",
    "    # sorting to relax and impose monotonicity\n",
    "    sorted_mixed = np.sort(preds[target == 1])\n",
    "\n",
    "    diff = np.apply_along_axis(lambda x: kde_outer_fun(kde_pos, x) / (kde_outer_fun(kde_mix, x) + 10 ** -5), axis=0,\n",
    "                               arr=sorted_mixed)\n",
    "    diff[diff > 50] = 50\n",
    "    diff = rolling_apply(diff, 5)\n",
    "    diff = np.append(\n",
    "        np.flip(np.maximum.accumulate(np.flip(diff[sorted_mixed <= threshold], axis=0)), axis=0),\n",
    "        diff[sorted_mixed > threshold])\n",
    "    diff = rolling_apply(diff, k_neighbours)\n",
    "\n",
    "\n",
    "    diff.sort()\n",
    "    diff = np.flip(diff, axis=0)\n",
    "\n",
    "    # desorting\n",
    "    diff = diff[np.argsort(np.argsort(preds[target == 1]))]\n",
    "\n",
    "    return diff"
   ]
  },
  {
   "cell_type": "code",
   "execution_count": 17,
   "metadata": {},
   "outputs": [],
   "source": [
    "def estimate_poster_em(diff=None, mode='dedpul', converge=True, tol=10**-5, max_iterations=1000, \\\n",
    "                       nonconverge=True, step=0.001, max_diff=0.05, disp=False,\n",
    "                       alpha=None, alpha_as_mean_poster=True, **kwargs):\n",
    "    \"\"\"\n",
    "    Performs Expectation-Maximization to estimate posteriors and priors alpha (if not provided) of N in U\n",
    "        with either of 'en' or 'dedpul' methods; both 'converge' and 'nonconverge' are recommended to be set True for\n",
    "        better estimate\n",
    "    :param diff: difference of densities f_p/f_u for the sample U, np.array (n,), output of estimate_diff()\n",
    "    :param preds: predictions of classifier, np.array with shape (n,)\n",
    "    :param target: binary vector, 0 if positive, 1 if unlabeled, np.array with shape (n,)\n",
    "    :param mode: 'dedpul' or 'en'; if 'dedpul', diff needs to be provided; if 'en', preds and target need to be provided\n",
    "    :param converge: True or False; True if convergence estimate should be computed\n",
    "    :param tol: tolerance of error between priors and mean posteriors, indicator of convergence\n",
    "    :param max_iterations: if exceeded, search of converged alpha stops even if tol is not reached\n",
    "    :param nonconverge: True or False; True if non-convergence estimate should be computed\n",
    "    :param step: gap between points of the [0, 1, step] gird to choose best alpha from\n",
    "    :param max_diff: alpha with difference of mean posteriors and priors bigger than max_diff cannot be chosen;\n",
    "        an heuristic to choose bigger alpha\n",
    "    :param plot: True or False, if True - plots ([0, 1, grid], mean posteriors - alpha) and\n",
    "        ([0, 1, grid], second lag of (mean posteriors - alpha))\n",
    "    :param disp: True or False, if True - displays if the algorithm didn't converge\n",
    "    :param alpha: proportions of N in U; is estimated if None\n",
    "    :return: tuple (alpha, poster), e.g. (priors, posteriors) of N in U for the U sample\n",
    "    \"\"\"\n",
    "    assert converge + nonconverge, \"At least one of 'converge' and 'nonconverge' has to be set to 'True'\"\n",
    "\n",
    "    if alpha is not None:\n",
    "        if mode == 'dedpul':\n",
    "            alpha, poster = estimate_poster_dedpul(diff, alpha=alpha, alpha_as_mean_poster=alpha_as_mean_poster, tol=tol, **kwargs)\n",
    "        return alpha, poster\n",
    "\n",
    "    # if converge:\n",
    "    alpha_converge = 0\n",
    "    for i in range(max_iterations):\n",
    "\n",
    "        if mode.endswith('dedpul'):\n",
    "            _, poster_converge = estimate_poster_dedpul(diff, alpha=alpha_converge, **kwargs)\n",
    "\n",
    "        mean_poster = np.mean(poster_converge)\n",
    "        error = mean_poster - alpha_converge\n",
    "\n",
    "        if np.abs(error) < tol:\n",
    "            break\n",
    "        if np.min(poster_converge) > 0:\n",
    "            break\n",
    "        alpha_converge = mean_poster\n",
    "\n",
    "    if disp:\n",
    "        if i >= max_iterations - 1:\n",
    "            print('max iterations exceeded')\n",
    "\n",
    "    # if nonconverge:\n",
    "\n",
    "    errors = np.array([])\n",
    "    for alpha_nonconverge in np.arange(0, 1, step):\n",
    "\n",
    "        if mode.endswith('dedpul'):\n",
    "            _, poster_nonconverge = estimate_poster_dedpul(diff, alpha=alpha_nonconverge, **kwargs)\n",
    "        errors = np.append(errors, np.mean(poster_nonconverge) - alpha_nonconverge)\n",
    "\n",
    "    idx = np.argmax(np.diff(np.diff(errors))[errors[1: -1] < max_diff])\n",
    "    alpha_nonconverge = np.arange(0, 1, step)[1: -1][errors[1: -1] < max_diff][idx]\n",
    "\n",
    "\n",
    "    # if converge and not nonconverge:\n",
    "    #     return alpha_converge, poster_converge\n",
    "\n",
    "    if ((alpha_nonconverge >= alpha_converge) or#converge and nonconverge and\n",
    "        (((errors < 0).sum() > 1) and (alpha_converge < 1 - step))):\n",
    "        return alpha_converge, poster_converge\n",
    "\n",
    "    elif nonconverge:\n",
    "        if mode == 'dedpul':\n",
    "            _, poster_nonconverge = estimate_poster_dedpul(diff, alpha=alpha_nonconverge, **kwargs)\n",
    "\n",
    "        if disp:\n",
    "            print('didn\\'t converge')\n",
    "        return alpha_nonconverge, poster_nonconverge\n",
    "        # return np.mean(poster_nonconverge), poster_nonconverge\n",
    "\n",
    "    else:\n",
    "        if disp:\n",
    "            print('didn\\'t converge')\n",
    "        return None, None\n"
   ]
  },
  {
   "cell_type": "code",
   "execution_count": 18,
   "metadata": {},
   "outputs": [],
   "source": [
    "def estimate_poster_dedpul(diff, alpha=None, quantile=0.05, alpha_as_mean_poster=False, max_it=100, **kwargs):\n",
    "    \"\"\"\n",
    "    Estimates posteriors and priors alpha (if not provided) of N in U with dedpul method\n",
    "    :param diff: difference of densities f_p / f_u for the sample U, np.array (n,), output of estimate_diff()\n",
    "    :param alpha: priors, share of N in U (estimated if None)\n",
    "    :param quantile: if alpha is None, relaxation of the estimate of alpha;\n",
    "        here alpha is estimaeted as infinum, and low quantile is its relaxed version;\n",
    "        share of posteriors probabilities that we allow to be negative (with the following zeroing-out)\n",
    "    :param kwargs: dummy\n",
    "    :return: tuple (alpha, poster), e.g. (priors, posteriors) of N in U for the U sample, represented by diff\n",
    "    \"\"\"\n",
    "    if alpha_as_mean_poster and (alpha is not None):\n",
    "        poster = 1 - diff * (1 - alpha)\n",
    "        poster[poster < 0] = 0\n",
    "        cur_alpha = np.mean(poster)\n",
    "        if cur_alpha < alpha:\n",
    "            left_border = alpha\n",
    "            right_border = 1\n",
    "        else:\n",
    "            left_border = 0\n",
    "            right_border = alpha\n",
    "\n",
    "            poster_zero = 1 - diff\n",
    "            poster_zero[poster_zero < 0] = 0\n",
    "            if np.mean(poster_zero) > alpha:\n",
    "                left_border = -50\n",
    "                right_border = 0\n",
    "                # return 0, poster_zero\n",
    "        it = 0\n",
    "        try_alpha = cur_alpha\n",
    "        while (abs(cur_alpha - alpha) > kwargs.get('tol', 10**-5)) and (it < max_it):\n",
    "            try_alpha = (left_border + (right_border - left_border) / 2)\n",
    "            poster = 1 - diff * (1 - try_alpha)\n",
    "            poster[poster < 0] = 0\n",
    "            cur_alpha = np.mean(poster)\n",
    "            if cur_alpha > alpha:\n",
    "                right_border = try_alpha\n",
    "            else:\n",
    "                left_border = try_alpha\n",
    "            it += 1\n",
    "        alpha = try_alpha\n",
    "        if it >= max_it:\n",
    "            print('Exceeded maximal number of iterations in finding mean_poster=alpha')\n",
    "    else:\n",
    "        if alpha is None:\n",
    "            alpha = 1 - 1 / max(np.quantile(diff, 1 - quantile, interpolation='higher'), 1)\n",
    "        poster = 1 - diff * (1 - alpha)\n",
    "        poster[poster < 0] = 0\n",
    "\n",
    "    return 1 - alpha, poster\n"
   ]
  },
  {
   "cell_type": "code",
   "execution_count": 19,
   "metadata": {},
   "outputs": [],
   "source": [
    "def rolling_apply(diff, k_neighbours):\n",
    "    s = pd.Series(diff)\n",
    "    s = np.concatenate((\n",
    "                        s.iloc[:2*k_neighbours].expanding().median()[::2].values,\n",
    "                        s.rolling(k_neighbours*2+1, center=True).median().dropna().values,\n",
    "                        np.flip(np.flip(s.iloc[-2*k_neighbours:], axis=0).expanding().median()[::2], axis=0).values\n",
    "    ))\n",
    "    return s\n"
   ]
  },
  {
   "cell_type": "markdown",
   "metadata": {},
   "source": [
    "### Elkan and Noto"
   ]
  },
  {
   "cell_type": "code",
   "execution_count": 20,
   "metadata": {},
   "outputs": [],
   "source": [
    "def estimator_CM_EN(pdata_probs, pudata_probs):\n",
    "    return np.sum(pudata_probs)*len(pdata_probs)/len(pudata_probs)/np.sum(pdata_probs)"
   ]
  },
  {
   "cell_type": "markdown",
   "metadata": {},
   "source": [
    "### Scott"
   ]
  },
  {
   "cell_type": "code",
   "execution_count": 21,
   "metadata": {},
   "outputs": [],
   "source": [
    "def scott_estimator(pdata_probs, udata_probs):\n",
    "    p_indices = np.argsort(pdata_probs)\n",
    "    sorted_p_probs = pdata_probs[p_indices]\n",
    "    u_indices = np.argsort(udata_probs)\n",
    "    sorted_u_probs = udata_probs[u_indices]\n",
    "\n",
    "    sorted_u_probs = sorted_u_probs[::-1]\n",
    "    sorted_p_probs = sorted_p_probs[::-1]\n",
    "    num = len(sorted_u_probs)\n",
    "\n",
    "    j = 0\n",
    "    num_u_samples = 0\n",
    "    ratios = []\n",
    "    delta=0.1\n",
    "    n = len(sorted_u_probs)\n",
    "    m = len(sorted_p_probs)\n",
    "    i = 0\n",
    "    while (i < num):\n",
    "        start_interval =  sorted_u_probs[i]   \n",
    "        k = i \n",
    "        if (i<num-1 and start_interval> sorted_u_probs[i+1]): \n",
    "            pass\n",
    "        else: \n",
    "            i += 1\n",
    "            continue\n",
    "\n",
    "        while ( j<len(sorted_p_probs) and sorted_p_probs[j] >= start_interval):\n",
    "            j+= 1\n",
    "\n",
    "        if j>1 and i > 1:\n",
    "            t = bininv(n, i, delta) / (1.0 - bininv(m, m-j, delta))\n",
    "            # t = ((i*1.0/n) + np.sqrt(np.log(1/delta)/2/n))/( (j*1.0/m) - + np.sqrt(np.log(1/delta)/2/m))\n",
    "            # if t > 0: \n",
    "            ratios.append(t)\n",
    "        i+=1\n",
    "\n",
    "    if len(ratios)!= 0: \n",
    "        return np.min(ratios)\n",
    "    else: \n",
    "        return 0.0"
   ]
  },
  {
   "cell_type": "code",
   "execution_count": 22,
   "metadata": {},
   "outputs": [],
   "source": [
    "def bininv(m,e,c): \n",
    "    plo = 0\n",
    "    phi = 1\n",
    "    p = .5\n",
    "\n",
    "    max_iter = 20 \n",
    "    tol = c*0.001   \n",
    "\n",
    "    iter = 0;\n",
    "\n",
    "    while iter <= max_iter:\n",
    "        iter = iter + 1;\n",
    "        bintail = binom.cdf(e,m,p)\n",
    "        if abs(bintail - c) <= tol: \n",
    "            return p\n",
    "\n",
    "        if bintail < c: \n",
    "            phi = p\n",
    "        else: \n",
    "            plo = p\n",
    "        p = (phi + plo)/2\n",
    "\n",
    "    return p"
   ]
  },
  {
   "cell_type": "markdown",
   "metadata": {},
   "source": [
    "### My Method"
   ]
  },
  {
   "cell_type": "code",
   "execution_count": 23,
   "metadata": {},
   "outputs": [],
   "source": [
    "def find_optimal_thresh(pos_probs, unl_probs, gran=101):\n",
    "    \n",
    "    pos_probs = np.array(pos_probs)\n",
    "    unl_probs = np.array(unl_probs)\n",
    "\n",
    "    thresholds = np.linspace(0,1,gran)\n",
    "\n",
    "    lop = []\n",
    "    lou = []\n",
    "    difs = []\n",
    "    squared_difs = []\n",
    "    \n",
    "    for t in thresholds:\n",
    "        pos_above = len(pos_probs[pos_probs > t])/len(pos_probs)\n",
    "        unl_above = len(unl_probs[unl_probs > t])/len(unl_probs)\n",
    "\n",
    "        lop.append(pos_above)\n",
    "        lou.append(unl_above)\n",
    "        difs.append(abs(pos_above-unl_above))\n",
    "        squared_difs.append(((pos_above-unl_above)**2))\n",
    "    \n",
    "    max_dif_idx = np.argmax(difs)\n",
    "    opt_thresh = thresholds[max_dif_idx]\n",
    "    \n",
    "    return opt_thresh, thresholds, lop, lou, difs, squared_difs"
   ]
  },
  {
   "cell_type": "code",
   "execution_count": 24,
   "metadata": {},
   "outputs": [],
   "source": [
    "def my_method(clf, pos_data, unl_data):\n",
    "    \n",
    "    pos_probs = []\n",
    "    unl_probs = []\n",
    "    \n",
    "    p_count = 1 # Initialize to 1 to avoid div by 0\n",
    "    n_count = 1\n",
    "    \n",
    "    for point in pos_data:\n",
    "        prob = clf.predict_proba([[point]])[0][0]\n",
    "        pos_probs.append(prob)\n",
    "    \n",
    "    for point in unl_data:\n",
    "        prob = clf.predict_proba([[point]])[0][0]\n",
    "        unl_probs.append(prob)\n",
    "    \n",
    "    opt_thresh, thresholds, lop, lou,\\\n",
    "        difs, squared_difs = find_optimal_thresh(pos_probs, unl_probs, gran=101)\n",
    "    \n",
    "    for point in unl_data:\n",
    "        prob = clf.predict_proba([[point]])[0][0]\n",
    "        \n",
    "        if prob > opt_thresh:\n",
    "            p_count += 1\n",
    "        else:\n",
    "            n_count += 1\n",
    "            \n",
    "    return p_count/(p_count+n_count)\n",
    "            \n",
    "    \n",
    "    "
   ]
  },
  {
   "cell_type": "markdown",
   "metadata": {},
   "source": [
    "## Experiment Script (Homemade Classifier)"
   ]
  },
  {
   "cell_type": "code",
   "execution_count": 25,
   "metadata": {},
   "outputs": [],
   "source": [
    "def run_experiment(alpha=0.5, beta=0.5,\\\n",
    "                   pos_mu=8, pos_sigma=1, neg_mu=3, neg_sigma=1, \\\n",
    "                   pos_size=2000, n_iters=10000, eval=False):\n",
    "    \n",
    "    \n",
    "    if eval==True:\n",
    "        print(\"Data info:\")\n",
    "        print(f'    alpha: {alpha}')\n",
    "        print(f'    beta: {beta}')\n",
    "        print(f'    pos_size: {pos_size}')\n",
    "        print(f'    unlabeled_size: {int((1-beta)*pos_size/beta)}')\n",
    "    \n",
    "    # Get the data set\n",
    "    p_trainloader, u_trainloader, pu_trainloader, p_validloader, u_validloader, pu_validloader = \\\n",
    "        get_dataset(alpha=alpha, beta=beta,\\\n",
    "                    pos_mu=pos_mu,pos_sigma=pos_sigma,\\\n",
    "                    neg_mu=neg_mu, neg_sigma=neg_sigma,\\\n",
    "                    pos_size = pos_size)\n",
    "    \n",
    "    # Initialize the model\n",
    "    input_dim = 1 # 1D Gaussian\n",
    "    output_dim = 2 # 2 classes (PvU)\n",
    "    model = LogisticRegressionModel(input_dim, output_dim)\n",
    "    \n",
    "    # Train the Model\n",
    "    train_model(model, pu_trainloader, pu_validloader, eval=eval, n_iters = n_iters)\n",
    "    \n",
    "    # Get the probabilities\n",
    "    p_probs, u_probs, u_labels = get_probs(model, p_validloader, u_validloader)\n",
    "    \n",
    "    # Do MPE methods\n",
    "    BBE_estimate, _, _ = BBE_estimator(p_probs, u_probs, u_labels)\n",
    "    dedpul_estimate, dedpul_probs = dedpul(p_probs, u_probs, u_labels)\n",
    "    EN_estimate= estimator_CM_EN(p_probs, u_probs)\n",
    "    scott_mpe_estimator = scott_estimator(p_probs, u_probs)\n",
    "    \n",
    "    if eval == True:\n",
    "        print()\n",
    "        print(\"MPE info:\")\n",
    "        print(f'    True MP: {alpha}')\n",
    "        print(f'    ------------------------')\n",
    "        print(f'    BBE: {BBE_estimate}')\n",
    "        print(f'    DEDPUL: {dedpul_estimate}')\n",
    "        print(f'    EN: {EN_estimate}')\n",
    "        print(f'    Scott: {scott_mpe_estimator}')\n",
    "    return alpha, BBE_estimate, dedpul_estimate, EN_estimate, scott_mpe_estimator"
   ]
  },
  {
   "cell_type": "markdown",
   "metadata": {},
   "source": [
    "## Experiment Script (SK Classifier)"
   ]
  },
  {
   "cell_type": "code",
   "execution_count": 26,
   "metadata": {},
   "outputs": [],
   "source": [
    "def run_experiment_sk(alpha=0.5,\\\n",
    "                   pos_mu=8, pos_sigma=1, neg_mu=3, neg_sigma=1, \\\n",
    "                   pos_size=2000, unl_size = 2000, eval=False):\n",
    "    \n",
    "    X,y,_,_ = get_sk_data(alpha=alpha,pos_mu=pos_mu,pos_sigma=pos_sigma,pos_size=pos_size,\\\n",
    "                neg_mu=neg_mu, neg_sigma=1, unl_size=unl_size)\n",
    "    \n",
    "    clf = sk_train(X,y)\n",
    "    \n",
    "    _,_,pos_test, unl_test = get_sk_data(alpha=alpha, pos_mu=pos_mu, pos_sigma=pos_sigma, pos_size=pos_size,\\\n",
    "                neg_mu=neg_mu, neg_sigma=neg_sigma, unl_size=unl_size)\n",
    "    \n",
    "    p_probs, u_probs, u_labels = sk_get_probs(clf, pos_test,unl_test)\n",
    "    \n",
    "    BBE_estimate, _, _ = BBE_estimator(p_probs, u_probs, u_labels)\n",
    "    dedpul_estimate, dedpul_probs = dedpul(p_probs, u_probs, u_labels)\n",
    "    EN_estimate= estimator_CM_EN(p_probs, u_probs)\n",
    "    scott_mpe_estimator = scott_estimator(p_probs, u_probs)\n",
    "    my_est = my_method(clf, pos_test, unl_test)\n",
    "    \n",
    "    if eval==True:\n",
    "        print(\"MPE info:\")\n",
    "        print(f'    True MP: {alpha}')\n",
    "        print(f'    ------------------------')\n",
    "        print(f'    BBE: {BBE_estimate}')\n",
    "        print(f'    DEDPUL: {dedpul_estimate}')\n",
    "        print(f'    EN: {EN_estimate}')\n",
    "        print(f'    Scott: {scott_mpe_estimator}')\n",
    "        print(f'    My Method: {my_est}')\n",
    "        \n",
    "        \n",
    "    return alpha, BBE_estimate, dedpul_estimate, EN_estimate, scott_mpe_estimator, my_est"
   ]
  },
  {
   "cell_type": "markdown",
   "metadata": {},
   "source": [
    "## Experiments with My Method using SK Classifier"
   ]
  },
  {
   "cell_type": "markdown",
   "metadata": {},
   "source": [
    "### run_experiment_sk\n",
    "#### Bugs:\n",
    "- Haven't found any yet...\n",
    "\n",
    "#### ToDo:\n",
    "- (Minor) Based on the way data is generated, sigma is fixed to 1. Need to update this. \n",
    "\n",
    "#### Parameters:\n",
    "- alpha $\\in [0,1]$ | default: 0.5\n",
    "    - The mixture proportion of the unlabeled samples\n",
    "    - Ex. If alpha = 0.4, 40% of the unlabeled samples will be positive and the rest will be negative\n",
    "- pos_mu $\\in \\mathbb{R}$ | default: 8\n",
    "    - The mean of the positive data\n",
    "- pos_sigma $\\in \\mathbb{R}$ | default: 1\n",
    "    - The variance of the positive data\n",
    "- neg_mu $\\in \\mathbb{R}$ | default: 3\n",
    "    - The mean of the negative data\n",
    "- neg_sigma $\\in \\mathbb{R}$ | default: 1\n",
    "    - The variance of the negative data\n",
    "- pos_size $\\in \\mathbb{Z}$ | default: 2000\n",
    "    - The number of positive samples\n",
    "- unl_size $\\in \\mathbb{Z}$ | default: 2000\n",
    "    - The number of unlabeled samples\n",
    "    - Note: Split between positive and negative according to value of alpha\n",
    "- eval | default: False\n",
    "    - If true, will print information. Otherwise, no printing.\n",
    "\n",
    "#### Returns:\n",
    "- alpha, BBE_estimate, dedpul_estimate, EN_estimate, scott_mpe_estimator, my_est\n",
    "    - Note: alpha is the true alpha of the generated data"
   ]
  },
  {
   "cell_type": "markdown",
   "metadata": {},
   "source": [
    "### Single Trial"
   ]
  },
  {
   "cell_type": "code",
   "execution_count": 50,
   "metadata": {},
   "outputs": [
    {
     "name": "stdout",
     "output_type": "stream",
     "text": [
      "MPE info:\n",
      "    True MP: 0.8\n",
      "    ------------------------\n",
      "    BBE: 0.7915987670570844\n",
      "    DEDPUL: 0.789781641088545\n",
      "    EN: 0.8685411422584278\n",
      "    Scott: 0.8110623110582369\n",
      "    My Method: 0.7961019490254873\n"
     ]
    },
    {
     "data": {
      "text/plain": [
       "(0.8,\n",
       " 0.7915987670570844,\n",
       " 0.789781641088545,\n",
       " 0.8685411422584278,\n",
       " 0.8110623110582369,\n",
       " 0.7961019490254873)"
      ]
     },
     "execution_count": 50,
     "metadata": {},
     "output_type": "execute_result"
    }
   ],
   "source": [
    "run_experiment_sk(alpha = 0.8,eval=True)"
   ]
  },
  {
   "cell_type": "markdown",
   "metadata": {},
   "source": [
    "### Average Absolute Error (n=10) While Varying Beta"
   ]
  },
  {
   "cell_type": "code",
   "execution_count": 45,
   "metadata": {},
   "outputs": [
    {
     "data": {
      "application/vnd.jupyter.widget-view+json": {
       "model_id": "496bd47239374019ae3ac94572be09d7",
       "version_major": 2,
       "version_minor": 0
      },
      "text/plain": [
       "IntProgress(value=0, max=90)"
      ]
     },
     "metadata": {},
     "output_type": "display_data"
    }
   ],
   "source": [
    "n = 10\n",
    "\n",
    "alpha_values = np.linspace(0.1,0.9,9)\n",
    "\n",
    "true_alpha = []\n",
    "true_alpha_errors = np.zeros_like(alpha_values)\n",
    "BBE_estimates = []\n",
    "BBE_error_alpha = []\n",
    "dedpul_estimates = []\n",
    "dedpul_error_alpha = []\n",
    "EN_estimates = []\n",
    "EN_error_alpha = []\n",
    "scott_estimates = []\n",
    "scott_error_alpha = []\n",
    "my_estimates = []\n",
    "my_error_alpha = []\n",
    "\n",
    "f = IntProgress(min=0, max=n*(len(alpha_values))) #Instantiate progress bar\n",
    "display(f)\n",
    "\n",
    "for value in alpha_values:\n",
    "    \n",
    "        \n",
    "    BBE_sum = 0\n",
    "    dedpul_sum = 0\n",
    "    EN_sum = 0\n",
    "    scott_sum = 0\n",
    "    my_sum = 0\n",
    "    \n",
    "    for _ in range(n):\n",
    "        \n",
    "        alpha, BBE_estimate, dedpul_estimate, EN_estimate, scott_mpe_estimator, my_est = run_experiment_sk(alpha=value, eval=False)\n",
    "        \n",
    "        BBE_sum += abs(BBE_estimate - alpha)\n",
    "        dedpul_sum += abs(dedpul_estimate - alpha)\n",
    "        EN_sum += abs(EN_estimate - alpha)\n",
    "        scott_sum += abs(scott_mpe_estimator - alpha)\n",
    "        my_sum += abs(my_est - alpha)\n",
    "        \n",
    "        f.value += 1\n",
    "        \n",
    "        \n",
    "    \n",
    "    BBE_error_alpha.append(BBE_sum/n)\n",
    "    dedpul_error_alpha.append(dedpul_sum/n)\n",
    "    EN_error_alpha.append(EN_sum/n)\n",
    "    scott_error_alpha.append(scott_sum/n)\n",
    "    my_error_alpha.append(my_sum/n)"
   ]
  },
  {
   "cell_type": "code",
   "execution_count": 51,
   "metadata": {},
   "outputs": [
    {
     "name": "stdout",
     "output_type": "stream",
     "text": [
      "\n"
     ]
    },
    {
     "data": {
      "image/png": "[encoded data removed]",
      "text/plain": [
       "<Figure size 432x288 with 1 Axes>"
      ]
     },
     "metadata": {
      "needs_background": "light"
     },
     "output_type": "display_data"
    }
   ],
   "source": [
    "plt.plot(alpha_values, BBE_error_alpha, color='red', marker='o', label=\"BBE Error\")\n",
    "plt.plot(alpha_values, dedpul_error_alpha, color='green', marker='o', label=\"DEDPUL Error\")\n",
    "plt.plot(alpha_values, EN_error_alpha, color='magenta', marker='o', label=\"EN Error\")\n",
    "plt.plot(alpha_values, scott_error_alpha, color='blue', marker='o', label=\"Scott Error\")\n",
    "plt.plot(alpha_values, my_error_alpha, color='orange', marker='o', label=\"TOM Error\")\n",
    "\n",
    "plt.legend(loc=(1.04,0.7))\n",
    "plt.xlabel(\"Alpha\")\n",
    "plt.ylabel(f\"Average Error of Estimated Alpha\")\n",
    "plt.title(f'Average Error of Estimated Alpha, n = {n}')\n",
    "\n",
    "print()"
   ]
  },
  {
   "cell_type": "markdown",
   "metadata": {},
   "source": [
    "### Average Absolute Error (n=10) While Varying Beta"
   ]
  },
  {
   "cell_type": "code",
   "execution_count": 47,
   "metadata": {},
   "outputs": [
    {
     "data": {
      "application/vnd.jupyter.widget-view+json": {
       "model_id": "950895a036fb4614aae2f2338a3971b1",
       "version_major": 2,
       "version_minor": 0
      },
      "text/plain": [
       "IntProgress(value=0, max=90)"
      ]
     },
     "metadata": {},
     "output_type": "display_data"
    }
   ],
   "source": [
    "n = 10\n",
    "\n",
    "total_size = 4000\n",
    "beta_values = np.linspace(0.1,0.9,9)\n",
    "pos_sizes = [int(x*total_size) for x in beta_values]\n",
    "unl_sizes = [int(total_size-x) for x in pos_sizes]\n",
    "sizes = list(zip(pos_sizes, unl_sizes))\n",
    "\n",
    "true_alpha = []\n",
    "true_alpha_errors = np.zeros_like(alpha_values)\n",
    "BBE_estimates = []\n",
    "BBE_error_beta = []\n",
    "dedpul_estimates = []\n",
    "dedpul_error_beta = []\n",
    "EN_estimates = []\n",
    "EN_error_beta = []\n",
    "scott_estimates = []\n",
    "scott_error_beta = []\n",
    "my_estimates = []\n",
    "my_error_beta = []\n",
    "\n",
    "f = IntProgress(min=0, max=n*(len(sizes))) #Instantiate progress bar\n",
    "display(f)\n",
    "\n",
    "for size in sizes:\n",
    "    \n",
    "    BBE_sum = 0\n",
    "    dedpul_sum = 0\n",
    "    EN_sum = 0\n",
    "    scott_sum = 0\n",
    "    my_sum = 0\n",
    "    \n",
    "    for _ in range(n):\n",
    "        \n",
    "        alpha, BBE_estimate, dedpul_estimate, EN_estimate, scott_mpe_estimator, my_est = run_experiment_sk(pos_size=size[0],unl_size=size[1], eval=False)\n",
    "        \n",
    "        BBE_sum += abs(BBE_estimate - alpha)\n",
    "        dedpul_sum += abs(dedpul_estimate - alpha)\n",
    "        EN_sum += abs(EN_estimate - alpha)\n",
    "        scott_sum += abs(scott_mpe_estimator - alpha)\n",
    "        my_sum += abs(my_est - alpha)\n",
    "        \n",
    "        f.value += 1\n",
    "        \n",
    "        \n",
    "    \n",
    "    BBE_error_beta.append(BBE_sum/n)\n",
    "    dedpul_error_beta.append(dedpul_sum/n)\n",
    "    EN_error_beta.append(EN_sum/n)\n",
    "    scott_error_beta.append(scott_sum/n)\n",
    "    my_error_beta.append(my_sum/n)"
   ]
  },
  {
   "cell_type": "code",
   "execution_count": 52,
   "metadata": {},
   "outputs": [
    {
     "data": {
      "text/plain": [
       "Text(0.5, 1.0, 'Error of Estimated Alpha with Varying Beta, n = 10')"
      ]
     },
     "execution_count": 52,
     "metadata": {},
     "output_type": "execute_result"
    },
    {
     "data": {
      "image/png": "[encoded data removed]",
      "text/plain": [
       "<Figure size 432x288 with 1 Axes>"
      ]
     },
     "metadata": {
      "needs_background": "light"
     },
     "output_type": "display_data"
    }
   ],
   "source": [
    "plt.plot(beta_values, BBE_error_beta, color='red', marker='o', label=\"BBE Error\")\n",
    "plt.plot(beta_values, dedpul_error_beta, color='green', marker='o', label=\"DEDPUL Error\")\n",
    "plt.plot(beta_values, EN_error_beta, color='magenta', marker='o', label=\"EN Error\")\n",
    "plt.plot(beta_values, scott_error_beta, color='blue', marker='o', label=\"Scott Error\")\n",
    "plt.plot(beta_values, my_error_beta, color='orange', marker='o', label=\"TOM Error\")\n",
    "\n",
    "plt.legend(loc=(1.04,0.7))\n",
    "plt.xlabel(\"Beta\")\n",
    "plt.ylabel(\"Error of Estimated Alpha\")\n",
    "plt.title(f'Error of Estimated Alpha with Varying Beta, n = {n}')"
   ]
  },
  {
   "cell_type": "markdown",
   "metadata": {},
   "source": [
    "## Experiments with Homemade Classifier (Slow)"
   ]
  },
  {
   "cell_type": "markdown",
   "metadata": {},
   "source": [
    "### run_experiment\n",
    "#### Bugs:\n",
    "- Seems to be an issue with the EN method\n",
    "\n",
    "#### Parameters:\n",
    "- alpha $\\in [0,1]$ | default: 0.5\n",
    "    - The mixture proportion of the unlabeled samples\n",
    "    - Ex. If alpha = 0.4, 40% of the unlabeled samples will be positive and the rest will be negative\n",
    "- beta $\\in [0,1]$ | default: 0.5\n",
    "    - The proportion of positive samples\n",
    "    - Ex. If beta = 0.3, 30% of the samples will be positive and the other 70% will be negative\n",
    "- pos_mu $\\in \\mathbb{R}$ | default: 8\n",
    "    - The mean of the positive data\n",
    "- pos_sigma $\\in \\mathbb{R}$ | default: 1\n",
    "    - The variance of the positive data\n",
    "- neg_mu $\\in \\mathbb{R}$ | default: 3\n",
    "    - The mean of the negative data\n",
    "- neg_sigma $\\in \\mathbb{R}$ | default: 1\n",
    "    - The variance of the negative data\n",
    "- pos_size $\\in \\mathbb{Z}$ | default: 2000\n",
    "    - The number of positive samples\n",
    "    - Note: In conjuntion with beta, this also determines the size of the unlabeled dataset\n",
    "- n_iters $\\in \\mathbb{Z}$ | default: 10000\n",
    "    - How many times we update the classifier\n",
    "    - Ex. If pos_size = 2000, beta = 0.5, then we will have 4000 data points overall. The default batch size is 200, so one epoch will contain 4000/200 = 20 iterations. So, we will then have (10000 total iterations)/(20 iterations per epoch) = 500 epochs.\n",
    "- eval | default: False\n",
    "    - If true, will print information. Otherwise, no printing.\n",
    "\n",
    "#### Returns:\n",
    "- (alpha, BBE_estimate, dedpul_estimate, EN_estimate, scott_mpe_estimator)"
   ]
  },
  {
   "cell_type": "markdown",
   "metadata": {},
   "source": [
    "### Single Trial"
   ]
  },
  {
   "cell_type": "code",
   "execution_count": null,
   "metadata": {},
   "outputs": [],
   "source": [
    "run_experiment(alpha=0.2, beta = 0.5,pos_size=2000,n_iters=2000,eval=True)"
   ]
  },
  {
   "cell_type": "markdown",
   "metadata": {},
   "source": [
    "### Varying alpha (w/ Homemade Classifier)"
   ]
  },
  {
   "cell_type": "code",
   "execution_count": null,
   "metadata": {},
   "outputs": [],
   "source": [
    "alpha_values = np.linspace(0.1,0.9,9)\n",
    "\n",
    "true_alpha = []\n",
    "true_alpha_errors = np.zeros_like(alpha_values)\n",
    "BBE_estimates = []\n",
    "BBE_error = []\n",
    "dedpul_estimates = []\n",
    "dedpul_error = []\n",
    "EN_estimates = []\n",
    "EN_error = []\n",
    "scott_estimates = []\n",
    "scott_error = []\n",
    "\n",
    "for value in alpha_values:\n",
    "    \n",
    "    alpha, BBE_estimate, dedpul_estimate, EN_estimate, scott_mpe_estimator = run_experiment(alpha=value, beta = 0.5,pos_size=2000,n_iters=10000,eval=False)\n",
    "    \n",
    "    true_alpha.append(alpha)\n",
    "    BBE_estimates.append(BBE_estimate)\n",
    "    dedpul_estimates.append(dedpul_estimate)\n",
    "    EN_estimates.append(EN_estimate)\n",
    "    scott_estimates.append(scott_mpe_estimator)\n",
    "    \n",
    "    BBE_error.append(BBE_estimate - alpha)\n",
    "    dedpul_error.append(dedpul_estimate - alpha)\n",
    "    EN_error.append(EN_estimate - alpha)\n",
    "    scott_error.append(scott_mpe_estimator - alpha)"
   ]
  },
  {
   "cell_type": "code",
   "execution_count": null,
   "metadata": {},
   "outputs": [],
   "source": [
    "plt.plot(alpha_values, true_alpha, 'k--', alpha_values, BBE_estimates, '-ro',\\\n",
    "        alpha_values, dedpul_estimates, '-go', alpha_values, EN_estimates, '-yo',\\\n",
    "        alpha_values, scott_estimates, '-bo')\n",
    "plt.legend(['True Alpha', 'BBE', 'DEDPUL', 'EN', 'Scott'])\n",
    "plt.xlabel(\"True Alpha\")\n",
    "plt.ylabel(\"Estimated Alpha\")\n",
    "plt.title('Estimated Alpha vs. True Alpha')\n"
   ]
  },
  {
   "cell_type": "markdown",
   "metadata": {},
   "source": [
    "#### Average (Absolute) Error Over 3 Trials"
   ]
  },
  {
   "cell_type": "code",
   "execution_count": null,
   "metadata": {},
   "outputs": [],
   "source": [
    "alpha_values = np.linspace(0.1,0.9,9)\n",
    "\n",
    "true_alpha = []\n",
    "true_alpha_errors = np.zeros_like(alpha_values)\n",
    "BBE_estimates = []\n",
    "BBE_error = []\n",
    "dedpul_estimates = []\n",
    "dedpul_error = []\n",
    "EN_estimates = []\n",
    "EN_error = []\n",
    "scott_estimates = []\n",
    "scott_error = []\n",
    "\n",
    "for value in alpha_values:\n",
    "    \n",
    "    alpha, BBE_estimate1, dedpul_estimate1, EN_estimate1, scott_mpe_estimator1 = run_experiment(alpha=value, beta = 0.5,pos_size=2000,n_iters=10000,eval=False)\n",
    "    alpha, BBE_estimate2, dedpul_estimate2, EN_estimate2, scott_mpe_estimator2 = run_experiment(alpha=value, beta = 0.5,pos_size=2000,n_iters=10000,eval=False)\n",
    "    alpha, BBE_estimate3, dedpul_estimate3, EN_estimate3, scott_mpe_estimator3 = run_experiment(alpha=value, beta = 0.5,pos_size=2000,n_iters=10000,eval=False)\n",
    "    \n",
    "    BBE_error.append((np.mean([abs(BBE_estimate1- alpha),abs(BBE_estimate2- alpha),abs(BBE_estimate3- alpha)])))\n",
    "    dedpul_error.append((np.mean([abs(dedpul_estimate1- alpha),abs(dedpul_estimate2- alpha),abs(dedpul_estimate3- alpha)])))\n",
    "    EN_error.append((np.mean([abs(EN_estimate1- alpha),abs(EN_estimate2- alpha),abs(EN_estimate3- alpha)])))\n",
    "    scott_error.append((np.mean([abs(scott_mpe_estimator1- alpha),abs(scott_mpe_estimator2- alpha),abs(scott_mpe_estimator3- alpha)])))"
   ]
  },
  {
   "cell_type": "code",
   "execution_count": null,
   "metadata": {},
   "outputs": [],
   "source": [
    "print(len(alpha_values))\n",
    "print(len(true_alpha_errors))\n",
    "plt.plot(alpha_values, true_alpha_errors, 'k--', alpha_values, BBE_error, '-ro',\\\n",
    "        alpha_values, dedpul_error, '-go', alpha_values, EN_error, '-yo',\\\n",
    "        alpha_values, scott_error, '-bo')\n",
    "plt.legend(['True Alpha', 'BBE Error', 'DEDPUL Error', 'EN Error', 'Scott Error'])\n",
    "plt.xlabel(\"True Alpha\")\n",
    "plt.ylabel(\"Error of Estimated Alpha\")\n",
    "plt.title('Error of Estimated Alpha vs. True Alpha')\n"
   ]
  },
  {
   "cell_type": "markdown",
   "metadata": {},
   "source": [
    "### Varying Beta"
   ]
  },
  {
   "cell_type": "code",
   "execution_count": null,
   "metadata": {},
   "outputs": [],
   "source": [
    "beta_values = np.linspace(0.1,0.9,9)\n",
    "\n",
    "true_alpha = []\n",
    "true_alpha_errors = np.zeros_like(alpha_values)\n",
    "BBE_estimates = []\n",
    "BBE_error = []\n",
    "dedpul_estimates = []\n",
    "dedpul_error = []\n",
    "EN_estimates = []\n",
    "EN_error = []\n",
    "scott_estimates = []\n",
    "scott_error = []\n",
    "\n",
    "for value in beta_values:\n",
    "    \n",
    "    alpha, BBE_estimate, dedpul_estimate, EN_estimate, scott_mpe_estimator = run_experiment(alpha=0.5, beta = value,pos_size=2000,n_iters=10000,eval=False)\n",
    "    \n",
    "    true_alpha.append(alpha)\n",
    "    BBE_estimates.append(BBE_estimate)\n",
    "    dedpul_estimates.append(dedpul_estimate)\n",
    "    EN_estimates.append(EN_estimate)\n",
    "    scott_estimates.append(scott_mpe_estimator)\n",
    "    \n",
    "    BBE_error.append(BBE_estimate - alpha)\n",
    "    dedpul_error.append(dedpul_estimate - alpha)\n",
    "    EN_error.append(EN_estimate - alpha)\n",
    "    scott_error.append(scott_mpe_estimator - alpha)"
   ]
  },
  {
   "cell_type": "code",
   "execution_count": null,
   "metadata": {},
   "outputs": [],
   "source": [
    "plt.plot(beta_values, true_alpha, 'k--',beta_values, BBE_estimates, '-ro',\\\n",
    "        beta_values, dedpul_estimates, '-go', beta_values, EN_estimates, '-yo',\\\n",
    "        beta_values, scott_estimates, '-bo')\n",
    "plt.legend(['True Alpha', 'BBE', 'DEDPUL', 'EN', 'Scott'])\n",
    "plt.xlabel(\"Beta\")\n",
    "plt.ylabel(\"Estimated Alpha\")\n",
    "plt.title('Estimated Alpha vs. Beta')\n",
    "ax = plt.gca()\n",
    "ax.set_ylim([-0.5,7])"
   ]
  },
  {
   "cell_type": "markdown",
   "metadata": {},
   "source": [
    "### Varying Sample Size (Alpha = 0.5, Beta = 0.5)"
   ]
  },
  {
   "cell_type": "code",
   "execution_count": null,
   "metadata": {},
   "outputs": [],
   "source": [
    "sizes = np.linspace(1000,10000,10,dtype=int)\n",
    "\n",
    "true_alpha = []\n",
    "true_alpha_errors = np.zeros_like(alpha_values)\n",
    "BBE_estimates = []\n",
    "BBE_error = []\n",
    "dedpul_estimates = []\n",
    "dedpul_error = []\n",
    "EN_estimates = []\n",
    "EN_error = []\n",
    "scott_estimates = []\n",
    "scott_error = []\n",
    "\n",
    "for value in sizes:\n",
    "    \n",
    "    alpha, BBE_estimate, dedpul_estimate, EN_estimate, scott_mpe_estimator = run_experiment(alpha=0.5, beta = 0.5,pos_size=value,n_iters=10000,eval=False)\n",
    "    \n",
    "    true_alpha.append(alpha)\n",
    "    BBE_estimates.append(BBE_estimate)\n",
    "    dedpul_estimates.append(dedpul_estimate)\n",
    "    EN_estimates.append(EN_estimate)\n",
    "    scott_estimates.append(scott_mpe_estimator)\n",
    "    \n",
    "    BBE_error.append(BBE_estimate - alpha)\n",
    "    dedpul_error.append(dedpul_estimate - alpha)\n",
    "    EN_error.append(EN_estimate - alpha)\n",
    "    scott_error.append(scott_mpe_estimator - alpha)"
   ]
  },
  {
   "cell_type": "code",
   "execution_count": null,
   "metadata": {},
   "outputs": [],
   "source": [
    "plt.plot(sizes, true_alpha, 'k--', sizes, BBE_estimates, '-ro',\\\n",
    "        sizes, dedpul_estimates, '-go', sizes, EN_estimates, '-yo',\\\n",
    "        sizes, scott_estimates, '-bo')\n",
    "plt.legend(['True Alpha', 'BBE', 'DEDPUL', 'EN', 'Scott'])\n",
    "plt.xlabel(\"Positive and Unlabeled Samples Sizes\")\n",
    "plt.ylabel(\"Estimated Alpha\")\n",
    "plt.title('Estimated Alpha vs. Sample Size (Alpha = 0.5, Beta = 0.5)')\n",
    "ax = plt.gca()\n",
    "ax.set_ylim([0,1])"
   ]
  },
  {
   "cell_type": "code",
   "execution_count": null,
   "metadata": {},
   "outputs": [],
   "source": []
  }
 ],
 "metadata": {
  "kernelspec": {
   "display_name": "Python 3",
   "language": "python",
   "name": "python3"
  },
  "language_info": {
   "codemirror_mode": {
    "name": "ipython",
    "version": 3
   },
   "file_extension": ".py",
   "mimetype": "text/x-python",
   "name": "python",
   "nbconvert_exporter": "python",
   "pygments_lexer": "ipython3",
   "version": "3.7.4"
  }
 },
 "nbformat": 4,
 "nbformat_minor": 4
}
